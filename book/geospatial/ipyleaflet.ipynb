{
 "cells": [
  {
   "cell_type": "markdown",
   "metadata": {},
   "source": [
    "# Ipyleaflet\n",
    "\n",
    "[![Open In Colab](https://colab.research.google.com/assets/colab-badge.svg)](https://colab.research.google.com/github/giswqs/geog-510/blob/main/book/geospatial/ipyleaflet.ipynb)\n",
    "\n",
    "## Introduction\n",
    "**ipyleaflet** is a Python library that brings the power of **Leaflet.js** to **Jupyter Notebooks**. It allows interactive mapping, geospatial visualization, and dynamic map customization with widgets.\n",
    "\n",
    "### Learning Objectives\n",
    "By the end of this lecture, you will:\n",
    "- Understand what ipyleaflet is and how it differs from Folium.\n",
    "- Learn to create basic maps and add markers.\n",
    "- Explore how to use geospatial layers and data.\n",
    "- Customize maps with widgets and interactivity.\n",
    "\n",
    "## 1. Installing and Importing ipyleaflet\n",
    "To install ipyleaflet, run the following command:\n",
    "\n",
    "```bash\n",
    "pip install ipyleaflet\n",
    "```\n",
    "\n",
    "Then, import it in Python:"
   ]
  },
  {
   "cell_type": "code",
   "execution_count": null,
   "metadata": {},
   "outputs": [],
   "source": [
    "from ipyleaflet import Map, Marker"
   ]
  },
  {
   "cell_type": "markdown",
   "metadata": {},
   "source": [
    "## 2. Creating a Basic Map\n",
    "A simple ipyleaflet map can be created as follows:"
   ]
  },
  {
   "cell_type": "code",
   "execution_count": null,
   "metadata": {},
   "outputs": [],
   "source": [
    "m = Map(center=(37.7749, -122.4194), zoom=10)\n",
    "m"
   ]
  },
  {
   "cell_type": "markdown",
   "metadata": {},
   "source": [
    "### Map Parameters\n",
    "- `center`: The latitude and longitude of the map center.\n",
    "- `zoom`: The initial zoom level.\n",
    "\n",
    "## 3. Adding Markers\n",
    "Markers help highlight specific locations on the map."
   ]
  },
  {
   "cell_type": "code",
   "execution_count": null,
   "metadata": {},
   "outputs": [],
   "source": [
    "marker = Marker(location=(37.7749, -122.4194))\n",
    "m.add_layer(marker)\n",
    "m"
   ]
  },
  {
   "cell_type": "markdown",
   "metadata": {},
   "source": [
    "## 4. Adding Tile Layers\n",
    "Different tile layers can be used to change the appearance of the map."
   ]
  },
  {
   "cell_type": "code",
   "execution_count": null,
   "metadata": {},
   "outputs": [],
   "source": [
    "from ipyleaflet import TileLayer\n",
    "\n",
    "m.add_layer(TileLayer(url=\"https://{s}.tile.opentopomap.org/{z}/{x}/{y}.png\"))\n",
    "m"
   ]
  },
  {
   "cell_type": "markdown",
   "metadata": {},
   "source": [
    "Common tile providers:\n",
    "- `OpenStreetMap`\n",
    "- `Stamen Terrain`\n",
    "- `CartoDB DarkMatter`\n",
    "\n",
    "## 5. Adding GeoJSON Layers\n",
    "GeoJSON files allow visualization of geospatial boundaries."
   ]
  },
  {
   "cell_type": "code",
   "execution_count": null,
   "metadata": {},
   "outputs": [],
   "source": [
    "from ipyleaflet import GeoJSON\n",
    "import json\n",
    "\n",
    "data = {\n",
    "    \"type\": \"FeatureCollection\",\n",
    "    \"features\": [\n",
    "        {\n",
    "            \"type\": \"Feature\",\n",
    "            \"geometry\": {\"type\": \"Point\", \"coordinates\": [-122.4194, 37.7749]},\n",
    "            \"properties\": {\"name\": \"San Francisco\"},\n",
    "        }\n",
    "    ],\n",
    "}\n",
    "\n",
    "gj = GeoJSON(data=data)\n",
    "m.add_layer(gj)\n",
    "m"
   ]
  },
  {
   "cell_type": "markdown",
   "metadata": {},
   "source": [
    "## 6. Adding a Choropleth Layer\n",
    "Choropleth maps visualize geographic data distributions."
   ]
  },
  {
   "cell_type": "code",
   "execution_count": null,
   "metadata": {},
   "outputs": [],
   "source": [
    "from ipyleaflet import Choropleth\n",
    "import pandas as pd\n",
    "\n",
    "# Example data\n",
    "geojson_url = (\n",
    "    \"https://raw.githubusercontent.com/johan/world.geo.json/master/countries.geo.json\"\n",
    ")\n",
    "data = {\"USA\": 100, \"CAN\": 50, \"MEX\": 75}\n",
    "\n",
    "choro = Choropleth(geo_data=geojson_url, choro_data=data, key_on=\"id\")\n",
    "m.add_layer(choro)\n",
    "m"
   ]
  },
  {
   "cell_type": "markdown",
   "metadata": {},
   "source": [
    "## 7. Adding Layer Controls\n",
    "To toggle layers dynamically:"
   ]
  },
  {
   "cell_type": "code",
   "execution_count": null,
   "metadata": {},
   "outputs": [],
   "source": [
    "from ipyleaflet import LayersControl\n",
    "\n",
    "m.add_control(LayersControl())\n",
    "m"
   ]
  },
  {
   "cell_type": "markdown",
   "metadata": {},
   "source": [
    "## 8. Adding Interactive Widgets\n",
    "Widgets enable real-time interaction with the map."
   ]
  },
  {
   "cell_type": "code",
   "execution_count": null,
   "metadata": {},
   "outputs": [],
   "source": [
    "from ipywidgets import FloatSlider\n",
    "\n",
    "zoom_slider = FloatSlider(description=\"Zoom Level\", min=1, max=20, value=m.zoom)\n",
    "\n",
    "\n",
    "def zoom_change(change):\n",
    "    m.zoom = change[\"new\"]\n",
    "\n",
    "\n",
    "zoom_slider.observe(zoom_change, \"value\")\n",
    "zoom_slider"
   ]
  },
  {
   "cell_type": "markdown",
   "metadata": {},
   "source": [
    "## Summary\n",
    "- **ipyleaflet** enables interactive mapping in Jupyter Notebooks.\n",
    "- Supports **markers, tile layers, GeoJSON, and choropleth maps**.\n",
    "- Interactive widgets enhance user experience.\n",
    "- Suitable for real-time geospatial data visualization.\n",
    "\n",
    "## Further Reading\n",
    "- [ipyleaflet Documentation](https://ipyleaflet.readthedocs.io/en/latest/)\n",
    "- [Leaflet.js Documentation](https://leafletjs.com/)"
   ]
  }
 ],
 "metadata": {
  "kernelspec": {
   "display_name": "Python 3 (ipykernel)",
   "language": "python",
   "name": "python3"
  },
  "language_info": {
   "codemirror_mode": {
    "name": "ipython",
    "version": 3
   },
   "file_extension": ".py",
   "mimetype": "text/x-python",
   "name": "python",
   "nbconvert_exporter": "python",
   "pygments_lexer": "ipython3",
   "version": "3.12.2"
  }
 },
 "nbformat": 4,
 "nbformat_minor": 4
}
