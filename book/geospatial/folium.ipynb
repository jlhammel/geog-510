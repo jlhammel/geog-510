{
 "cells": [
  {
   "cell_type": "markdown",
   "metadata": {},
   "source": [
    "# Folium\n",
    "\n",
    "[![Open In Colab](https://colab.research.google.com/assets/colab-badge.svg)](https://colab.research.google.com/github/giswqs/geog-510/blob/main/book/geospatial/folium.ipynb)\n",
    "\n",
    "## Introduction\n",
    "**Folium** is a powerful Python library that enables the creation of interactive maps using **Leaflet.js**. It provides a simple interface to visualize geospatial data and integrates well with **Pandas**, **GeoPandas**, and other geospatial libraries.\n",
    "\n",
    "### Learning Objectives\n",
    "By the end of this lecture, you will:\n",
    "- Understand what Folium is and how it works.\n",
    "- Learn to create basic maps and add markers.\n",
    "- Explore how to visualize geospatial data.\n",
    "- Customize maps with different layers and styles.\n",
    "\n",
    "## 1. Installing and Importing Folium\n",
    "To install Folium, run the following command:\n",
    "\n",
    "```bash\n",
    "pip install folium\n",
    "```\n",
    "\n",
    "Then, import Folium in Python:"
   ]
  },
  {
   "cell_type": "code",
   "execution_count": null,
   "metadata": {},
   "outputs": [],
   "source": [
    "import folium"
   ]
  },
  {
   "cell_type": "markdown",
   "metadata": {},
   "source": [
    "## 2. Creating a Basic Map\n",
    "A Folium map is centered on a specific latitude and longitude."
   ]
  },
  {
   "cell_type": "code",
   "execution_count": null,
   "metadata": {},
   "outputs": [],
   "source": [
    "m = folium.Map(location=[37.7749, -122.4194], zoom_start=10)\n",
    "m.save(\"map.html\")  # Save map as an HTML file\n",
    "m  # Display the map in Jupyter Notebook"
   ]
  },
  {
   "cell_type": "markdown",
   "metadata": {},
   "source": [
    "### Map Parameters\n",
    "- `location`: Center of the map (latitude, longitude).\n",
    "- `zoom_start`: Initial zoom level.\n",
    "- `tiles`: The map style (default: `\"OpenStreetMap\"`).\n",
    "\n",
    "## 3. Adding Markers and Popups\n",
    "Folium allows adding markers to highlight specific locations."
   ]
  },
  {
   "cell_type": "code",
   "execution_count": null,
   "metadata": {},
   "outputs": [],
   "source": [
    "m = folium.Map(location=[37.7749, -122.4194], zoom_start=10)\n",
    "folium.Marker(\n",
    "    [37.7749, -122.4194],\n",
    "    popup=\"San Francisco\",\n",
    "    tooltip=\"Click for info\",\n",
    "    icon=folium.Icon(color=\"blue\", icon=\"info-sign\"),\n",
    ").add_to(m)\n",
    "\n",
    "m.save(\"map_with_marker.html\")\n",
    "m"
   ]
  },
  {
   "cell_type": "markdown",
   "metadata": {},
   "source": [
    "## 4. Adding GeoJSON and Choropleth Layers\n",
    "Folium supports **GeoJSON** and **Choropleth** layers for visualizing geographic data.\n",
    "\n",
    "### Adding a GeoJSON Layer"
   ]
  },
  {
   "cell_type": "code",
   "execution_count": null,
   "metadata": {},
   "outputs": [],
   "source": [
    "import json\n",
    "\n",
    "geojson_data = {\n",
    "    \"type\": \"FeatureCollection\",\n",
    "    \"features\": [\n",
    "        {\n",
    "            \"type\": \"Feature\",\n",
    "            \"geometry\": {\"type\": \"Point\", \"coordinates\": [-122.4194, 37.7749]},\n",
    "            \"properties\": {\"name\": \"San Francisco\"},\n",
    "        }\n",
    "    ],\n",
    "}\n",
    "\n",
    "m = folium.Map(location=[37.7749, -122.4194], zoom_start=10)\n",
    "folium.GeoJson(geojson_data, name=\"GeoJSON Layer\").add_to(m)\n",
    "m"
   ]
  },
  {
   "cell_type": "markdown",
   "metadata": {},
   "source": [
    "### Creating a Choropleth Map"
   ]
  },
  {
   "cell_type": "code",
   "execution_count": null,
   "metadata": {},
   "outputs": [],
   "source": [
    "import pandas as pd\n",
    "\n",
    "# Sample data: FIPS codes and values\n",
    "data = pd.DataFrame(\n",
    "    {\"FIPS\": [\"06075\"], \"Value\": [100]}  # San Francisco county FIPS code\n",
    ")\n",
    "\n",
    "m = folium.Map(location=[37.7749, -122.4194], zoom_start=6)\n",
    "folium.Choropleth(\n",
    "    geo_data=\"https://raw.githubusercontent.com/PublicaMundi/MappingAPI/master/data/geojson/us-states.json\",\n",
    "    data=data,\n",
    "    columns=[\"FIPS\", \"Value\"],\n",
    "    key_on=\"feature.id\",\n",
    "    fill_color=\"YlGn\",\n",
    "    fill_opacity=0.7,\n",
    "    line_opacity=0.2,\n",
    "    legend_name=\"Sample Data\",\n",
    ").add_to(m)\n",
    "\n",
    "m"
   ]
  },
  {
   "cell_type": "markdown",
   "metadata": {},
   "source": [
    "## 5. Customizing Map Tiles\n",
    "Folium allows switching between different map tiles:"
   ]
  },
  {
   "cell_type": "code",
   "execution_count": null,
   "metadata": {},
   "outputs": [],
   "source": [
    "m = folium.Map(location=[37.7749, -122.4194], zoom_start=10)\n",
    "m"
   ]
  },
  {
   "cell_type": "markdown",
   "metadata": {},
   "source": [
    "Other tile options:\n",
    "- `CartoDB positron`\n",
    "- `CartoDB dark_matter`\n",
    "\n",
    "## 6. Adding Layer Controls\n",
    "To allow toggling between layers:"
   ]
  },
  {
   "cell_type": "code",
   "execution_count": null,
   "metadata": {},
   "outputs": [],
   "source": [
    "m = folium.Map(location=[37.7749, -122.4194], zoom_start=10)\n",
    "folium.TileLayer(\"CartoDB positron\").add_to(m)\n",
    "folium.TileLayer(\"CartoDB darkmatter\").add_to(m)\n",
    "folium.LayerControl().add_to(m)\n",
    "m"
   ]
  },
  {
   "cell_type": "markdown",
   "metadata": {},
   "source": [
    "## 7. Saving and Sharing Maps\n",
    "Folium maps can be saved as HTML files:"
   ]
  },
  {
   "cell_type": "code",
   "execution_count": null,
   "metadata": {},
   "outputs": [],
   "source": [
    "m.save(\"interactive_map.html\")"
   ]
  },
  {
   "cell_type": "markdown",
   "metadata": {},
   "source": [
    "## Summary\n",
    "- **Folium** is a Python library for creating interactive maps.\n",
    "- Basic maps can be customized with **markers, popups, and tooltips**.\n",
    "- Advanced features include **GeoJSON, choropleth maps, and tile layers**.\n",
    "- Maps can be saved as **HTML files** and shared easily.\n",
    "\n",
    "## Further Reading\n",
    "- [Folium Documentation](https://python-visualization.github.io/folium/)\n",
    "- [Leaflet.js Documentation](https://leafletjs.com/)"
   ]
  }
 ],
 "metadata": {
  "kernelspec": {
   "display_name": "Python 3 (ipykernel)",
   "language": "python",
   "name": "python3"
  },
  "language_info": {
   "codemirror_mode": {
    "name": "ipython",
    "version": 3
   },
   "file_extension": ".py",
   "mimetype": "text/x-python",
   "name": "python",
   "nbconvert_exporter": "python",
   "pygments_lexer": "ipython3",
   "version": "3.12.2"
  }
 },
 "nbformat": 4,
 "nbformat_minor": 4
}
