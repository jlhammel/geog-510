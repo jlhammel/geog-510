{
 "cells": [
  {
   "cell_type": "markdown",
   "metadata": {},
   "source": [
    "# Lab 4\n",
    "\n",
    "[![Open In Colab](https://colab.research.google.com/assets/colab-badge.svg)](https://colab.research.google.com/github/jlhammel/geog-510/blob/four/book/labs/lab_04.ipynb)"
   ]
  },
  {
   "cell_type": "markdown",
   "metadata": {},
   "source": [
    "## Exercise 1: Variable Assignment and Basic Operations\n",
    "\n",
    "Create variables to store the following geospatial data:\n",
    "\n",
    "- The latitude and longitude of New York City: 40.7128, -74.0060.\n",
    "- The population of New York City: 8,336,817.\n",
    "- The area of New York City in square kilometers: 783.8.\n",
    "\n",
    "Perform the following tasks:\n",
    "\n",
    "1. Calculate and print the population density of New York City (population per square kilometer).\n",
    "2. Print the coordinates in the format \"Latitude: [latitude], Longitude: [longitude]\"."
   ]
  },
  {
   "cell_type": "code",
   "execution_count": 304,
   "metadata": {},
   "outputs": [],
   "source": [
    "PopNY = 8338817\n",
    "NYki = 783.8\n",
    "lat = 40.7128\n",
    "long = -74.0060"
   ]
  },
  {
   "cell_type": "code",
   "execution_count": 301,
   "metadata": {},
   "outputs": [
    {
     "data": {
      "text/plain": [
       "10638.960193927023"
      ]
     },
     "execution_count": 301,
     "metadata": {},
     "output_type": "execute_result"
    }
   ],
   "source": [
    "pd = PopNY / NYki\n",
    "pd"
   ]
  },
  {
   "cell_type": "code",
   "execution_count": 307,
   "metadata": {},
   "outputs": [
    {
     "name": "stdout",
     "output_type": "stream",
     "text": [
      "Latitude: 40.7128 Longitude: -74.006\n"
     ]
    }
   ],
   "source": [
    "print(\"Latitude:\", lat, \"Longitude:\", long)"
   ]
  },
  {
   "cell_type": "markdown",
   "metadata": {},
   "source": [
    "## Exercise 2: Working with Strings\n",
    "\n",
    "Create a string variable to store the name of a city, such as \"San Francisco\". Perform the following operations:\n",
    "\n",
    "1. Convert the string to lowercase and print the result.\n",
    "2. Convert the string to uppercase and print the result.\n",
    "3. Replace \"San\" with \"Los\" in the city name and print the new string."
   ]
  },
  {
   "cell_type": "code",
   "execution_count": 315,
   "metadata": {},
   "outputs": [],
   "source": [
    "location_name = \"San Francisco\" "
   ]
  },
  {
   "cell_type": "code",
   "execution_count": 316,
   "metadata": {},
   "outputs": [
    {
     "name": "stdout",
     "output_type": "stream",
     "text": [
      "san francisco\n"
     ]
    }
   ],
   "source": [
    "location_name_lower = location_name.lower()\n",
    "print(location_name_lower)"
   ]
  },
  {
   "cell_type": "code",
   "execution_count": 317,
   "metadata": {},
   "outputs": [
    {
     "name": "stdout",
     "output_type": "stream",
     "text": [
      "SAN FRANCISCO\n"
     ]
    }
   ],
   "source": [
    "location_name_upper = location_name.upper()\n",
    "print(location_name_upper)"
   ]
  },
  {
   "cell_type": "code",
   "execution_count": 318,
   "metadata": {},
   "outputs": [
    {
     "name": "stdout",
     "output_type": "stream",
     "text": [
      "Los Francisco\n"
     ]
    }
   ],
   "source": [
    "location_name_replaced = location_name.replace(\"San\", \"Los\")\n",
    "print(location_name_replaced) "
   ]
  },
  {
   "cell_type": "markdown",
   "metadata": {},
   "source": [
    "## Exercise 3: Using Lists\n",
    "\n",
    "Create a list of tuples, where each tuple contains the name of a city and its corresponding latitude and longitude:\n",
    "\n",
    "- New York City: (40.7128, -74.0060)\n",
    "- Los Angeles: (34.0522, -118.2437)\n",
    "- Chicago: (41.8781, -87.6298)\n",
    "\n",
    "Perform the following tasks:\n",
    "\n",
    "1. Add a new city (e.g., Miami: (25.7617, -80.1918)) to the list.\n",
    "2. Print the entire list of cities.\n",
    "3. Slice the list to print only the first two cities."
   ]
  },
  {
   "cell_type": "code",
   "execution_count": 308,
   "metadata": {},
   "outputs": [],
   "source": [
    "loc = [\n",
    "    (\"New York\", 40.7128, -74.0060),\n",
    "    (\"Los Angeles\", 34.0522, -118.2437),\n",
    "    (\"Chicago\", 41.8781, -87.6298),\n",
    "]"
   ]
  },
  {
   "cell_type": "code",
   "execution_count": 309,
   "metadata": {},
   "outputs": [
    {
     "name": "stdout",
     "output_type": "stream",
     "text": [
      "Updated locations: [('New York', 40.7128, -74.006), ('Los Angeles', 34.0522, -118.2437), ('Chicago', 41.8781, -87.6298), ('Miami', 25.7617, -80.1918)]\n"
     ]
    }
   ],
   "source": [
    "loc.append((\"Miami\", 25.7617, -80.1918)) \n",
    "print(\"Updated locations:\", loc)"
   ]
  },
  {
   "cell_type": "code",
   "execution_count": 310,
   "metadata": {},
   "outputs": [
    {
     "name": "stdout",
     "output_type": "stream",
     "text": [
      "[('New York', 40.7128, -74.006), ('Los Angeles', 34.0522, -118.2437)]\n"
     ]
    }
   ],
   "source": [
    "subloc = loc[:2]\n",
    "print(subloc)"
   ]
  },
  {
   "cell_type": "markdown",
   "metadata": {},
   "source": [
    "## Exercise 4: Using Tuples\n",
    "\n",
    "Create a tuple to store the coordinates (latitude, longitude) of the Eiffel Tower: (48.8584, 2.2945). Perform the following tasks:\n",
    "\n",
    "1. Access and print the latitude and longitude values from the tuple.\n",
    "2. Try to change the latitude value to 48.8585. What happens? Explain why."
   ]
  },
  {
   "cell_type": "code",
   "execution_count": 319,
   "metadata": {},
   "outputs": [],
   "source": [
    "et = (\n",
    "    48.8584,\n",
    "    2.2945\n",
    ")"
   ]
  },
  {
   "cell_type": "code",
   "execution_count": 320,
   "metadata": {},
   "outputs": [
    {
     "name": "stdout",
     "output_type": "stream",
     "text": [
      "Latitude: 48.8584, Longitude: 2.2945\n"
     ]
    }
   ],
   "source": [
    "latitude = et[0]\n",
    "longitude = et[1]\n",
    "print(f\"Latitude: {latitude}, Longitude: {longitude}\")"
   ]
  },
  {
   "cell_type": "code",
   "execution_count": 321,
   "metadata": {},
   "outputs": [
    {
     "ename": "TypeError",
     "evalue": "'tuple' object does not support item assignment",
     "output_type": "error",
     "traceback": [
      "\u001b[0;31m---------------------------------------------------------------------------\u001b[0m",
      "\u001b[0;31mTypeError\u001b[0m                                 Traceback (most recent call last)",
      "Cell \u001b[0;32mIn[321], line 1\u001b[0m\n\u001b[0;32m----> 1\u001b[0m \u001b[43met\u001b[49m\u001b[43m[\u001b[49m\u001b[38;5;241;43m1\u001b[39;49m\u001b[43m]\u001b[49m \u001b[38;5;241m=\u001b[39m \u001b[38;5;241m30.23\u001b[39m\n\u001b[1;32m      2\u001b[0m \u001b[38;5;66;03m#You can not change it because it is a tuple and tuples can not be changed\u001b[39;00m\n",
      "\u001b[0;31mTypeError\u001b[0m: 'tuple' object does not support item assignment"
     ]
    }
   ],
   "source": [
    "et[1] = 30.23\n",
    "#You can not change it because it is a tuple and tuples can not be changed"
   ]
  },
  {
   "cell_type": "markdown",
   "metadata": {},
   "source": [
    "## Exercise 5: Working with Sets\n",
    "\n",
    "Create a set of countries you have visited, such as {\"USA\", \"France\", \"Germany\"}. Perform the following tasks:\n",
    "\n",
    "1. Add a new country to the set.\n",
    "2. Try to add the same country again. What happens?\n",
    "3. Print the updated set."
   ]
  },
  {
   "cell_type": "code",
   "execution_count": 322,
   "metadata": {},
   "outputs": [],
   "source": [
    "countries = [\"USA\", \"Mexico\", \"Canada\"] \n",
    "countries = set(countries)"
   ]
  },
  {
   "cell_type": "code",
   "execution_count": 323,
   "metadata": {},
   "outputs": [
    {
     "name": "stdout",
     "output_type": "stream",
     "text": [
      "Updated countries: {'Canada', 'Mexico', 'USA'}\n"
     ]
    }
   ],
   "source": [
    "countries.add(\"USA\")\n",
    "print(\"Updated countries:\", countries)\n",
    "#It will not let me add the same county because it is a dupolicate and set does not allow duplicates"
   ]
  },
  {
   "cell_type": "code",
   "execution_count": 324,
   "metadata": {},
   "outputs": [
    {
     "name": "stdout",
     "output_type": "stream",
     "text": [
      "{'Canada', 'Mexico', 'USA'}\n"
     ]
    }
   ],
   "source": [
    "print(countries)"
   ]
  },
  {
   "cell_type": "markdown",
   "metadata": {},
   "source": [
    "## Exercise 6: Working with Dictionaries\n",
    "\n",
    "Create a dictionary to store information about a specific geospatial feature, such as a river:\n",
    "\n",
    "- Name: \"Amazon River\"\n",
    "- Length: 6400 km\n",
    "- Countries: [\"Brazil\", \"Peru\", \"Colombia\"]\n",
    "\n",
    "Perform the following tasks:\n",
    "\n",
    "1. Add a new key-value pair to the dictionary to store the river's average discharge (e.g., 209,000 m³/s).\n",
    "2. Update the length of the river to 6992 km.\n",
    "3. Print the dictionary."
   ]
  },
  {
   "cell_type": "code",
   "execution_count": 325,
   "metadata": {},
   "outputs": [],
   "source": [
    "river_attributes = {\n",
    "    \"name\": \"Amazon River\",\n",
    "    \"Length\": 6400,\n",
    "    \"countries\": (\"Brazil\", \"Peru\", \"Colombia\"),\n",
    "}  "
   ]
  },
  {
   "cell_type": "code",
   "execution_count": 326,
   "metadata": {},
   "outputs": [
    {
     "name": "stdout",
     "output_type": "stream",
     "text": [
      "Updated river attributes: {'name': 'Amazon River', 'Length': 6400, 'countries': ('Brazil', 'Peru', 'Colombia'), 'river_discharge': 209000}\n"
     ]
    }
   ],
   "source": [
    "river_attributes[\"river_discharge\"] = 209000 \n",
    "print(\"Updated river attributes:\", river_attributes)"
   ]
  },
  {
   "cell_type": "code",
   "execution_count": 327,
   "metadata": {},
   "outputs": [
    {
     "name": "stdout",
     "output_type": "stream",
     "text": [
      "Updated river attributes: {'name': 'Amazon River', 'Length': 6992, 'countries': ('Brazil', 'Peru', 'Colombia'), 'river_discharge': 209000}\n"
     ]
    }
   ],
   "source": [
    "river_attributes[\"Length\"] = 6992  \n",
    "print(\"Updated river attributes:\", river_attributes)"
   ]
  },
  {
   "cell_type": "code",
   "execution_count": 328,
   "metadata": {},
   "outputs": [
    {
     "name": "stdout",
     "output_type": "stream",
     "text": [
      "{'name': 'Amazon River', 'Length': 6992, 'countries': ('Brazil', 'Peru', 'Colombia'), 'river_discharge': 209000}\n"
     ]
    }
   ],
   "source": [
    "print(river_attributes)"
   ]
  },
  {
   "cell_type": "markdown",
   "metadata": {},
   "source": [
    "## Exercise 7: Nested Data Structures\n",
    "\n",
    "Create a dictionary to represent a city that contains the city's name, population, and coordinates (latitude, longitude):\n",
    "\n",
    "- Name: \"Tokyo\"\n",
    "- Population: 13,515,271\n",
    "- Coordinates: (35.6895, 139.6917)\n",
    "\n",
    "Perform the following tasks:\n",
    "\n",
    "1. Access and print the population of the city.\n",
    "2. Access and print the city's latitude.\n",
    "3. Update the population to 14,000,000 and print the updated dictionary."
   ]
  },
  {
   "cell_type": "code",
   "execution_count": 329,
   "metadata": {},
   "outputs": [],
   "source": [
    "city_attributes = {\n",
    "    \"name\": \"Tokyo\",\n",
    "    \"population\": 13515271,\n",
    "    \"coordinates\": (35.6895, 139.6917),\n",
    "} "
   ]
  },
  {
   "cell_type": "code",
   "execution_count": 330,
   "metadata": {},
   "outputs": [
    {
     "name": "stdout",
     "output_type": "stream",
     "text": [
      "Population: 13515271\n"
     ]
    }
   ],
   "source": [
    "city_population = city_attributes[\"population\"]\n",
    "print(f\"Population: {city_population}\")"
   ]
  },
  {
   "cell_type": "code",
   "execution_count": 331,
   "metadata": {},
   "outputs": [
    {
     "name": "stdout",
     "output_type": "stream",
     "text": [
      "coordinates: 35.6895\n"
     ]
    }
   ],
   "source": [
    "city_coordinates = city_attributes[\"coordinates\"][0]\n",
    "print(f\"coordinates: {city_coordinates}\")"
   ]
  },
  {
   "cell_type": "code",
   "execution_count": 332,
   "metadata": {},
   "outputs": [
    {
     "name": "stdout",
     "output_type": "stream",
     "text": [
      "Updated city attributes: {'name': 'Tokyo', 'population': 14000000, 'coordinates': (35.6895, 139.6917)}\n"
     ]
    }
   ],
   "source": [
    "city_attributes[\"population\"] = 14000000\n",
    "print(\"Updated city attributes:\", city_attributes)"
   ]
  },
  {
   "cell_type": "markdown",
   "metadata": {},
   "source": [
    "## Exercise 8: List Operations\n",
    "\n",
    "Given the list of cities from Exercise 3, perform the following operations:\n",
    "\n",
    "1. Sort the list of cities alphabetically by name.\n",
    "2. Create a new list that contains only the city names.\n",
    "3. Remove the last city from the original list and print the updated list."
   ]
  },
  {
   "cell_type": "code",
   "execution_count": 333,
   "metadata": {},
   "outputs": [],
   "source": [
    "loc = [\n",
    "    (\"New York\", 40.7128, -74.0060),\n",
    "    (\"Los Angeles\", 34.0522, -118.2437),\n",
    "    (\"Chicago\", 41.8781, -87.6298),\n",
    "]"
   ]
  },
  {
   "cell_type": "code",
   "execution_count": 334,
   "metadata": {},
   "outputs": [
    {
     "name": "stdout",
     "output_type": "stream",
     "text": [
      "[('Chicago', 41.8781, -87.6298), ('Los Angeles', 34.0522, -118.2437), ('New York', 40.7128, -74.006)]\n"
     ]
    }
   ],
   "source": [
    "loc.sort()\n",
    "print(loc)"
   ]
  },
  {
   "cell_type": "code",
   "execution_count": 335,
   "metadata": {},
   "outputs": [
    {
     "name": "stdout",
     "output_type": "stream",
     "text": [
      "['Chicago', 'Los Angeles', 'New York']\n"
     ]
    }
   ],
   "source": [
    "lockname = [item[0] for item in loc]\n",
    "print(lockname)"
   ]
  },
  {
   "cell_type": "code",
   "execution_count": 336,
   "metadata": {},
   "outputs": [
    {
     "name": "stdout",
     "output_type": "stream",
     "text": [
      "[('Chicago', 41.8781, -87.6298), ('Los Angeles', 34.0522, -118.2437)]\n"
     ]
    }
   ],
   "source": [
    "sub_loc = loc[:2] \n",
    "print(sub_loc)"
   ]
  },
  {
   "cell_type": "markdown",
   "metadata": {},
   "source": [
    "## Exercise 9: Dictionary Operations\n",
    "\n",
    "Using the dictionary from Exercise 6, perform the following tasks:\n",
    "\n",
    "1. Check if the key \"Length\" exists in the dictionary.\n",
    "2. Print all the keys in the dictionary.\n",
    "3. Print all the values in the dictionary."
   ]
  },
  {
   "cell_type": "code",
   "execution_count": 337,
   "metadata": {},
   "outputs": [
    {
     "data": {
      "text/plain": [
       "6992"
      ]
     },
     "execution_count": 337,
     "metadata": {},
     "output_type": "execute_result"
    }
   ],
   "source": [
    "river_attributes.get(\"Length\")"
   ]
  },
  {
   "cell_type": "code",
   "execution_count": 338,
   "metadata": {},
   "outputs": [
    {
     "data": {
      "text/plain": [
       "dict_keys(['name', 'Length', 'countries', 'river_discharge'])"
      ]
     },
     "execution_count": 338,
     "metadata": {},
     "output_type": "execute_result"
    }
   ],
   "source": [
    "river_attributes.keys()"
   ]
  },
  {
   "cell_type": "code",
   "execution_count": 339,
   "metadata": {},
   "outputs": [
    {
     "data": {
      "text/plain": [
       "dict_values(['Amazon River', 6992, ('Brazil', 'Peru', 'Colombia'), 209000])"
      ]
     },
     "execution_count": 339,
     "metadata": {},
     "output_type": "execute_result"
    }
   ],
   "source": [
    "river_attributes.values()"
   ]
  },
  {
   "cell_type": "markdown",
   "metadata": {},
   "source": [
    "## Exercise 10: Practical Application\n",
    "\n",
    "Imagine you have a list of tuples, each representing a location with its name, latitude, and longitude:"
   ]
  },
  {
   "cell_type": "code",
   "execution_count": 340,
   "metadata": {},
   "outputs": [],
   "source": [
    "locations = [\n",
    "    (\"Mount Everest\", 27.9881, 86.9250),\n",
    "    (\"K2\", 35.8808, 76.5155),\n",
    "    (\"Kangchenjunga\", 27.7025, 88.1475),\n",
    "]"
   ]
  },
  {
   "cell_type": "markdown",
   "metadata": {},
   "source": [
    "Perform the following tasks:\n",
    "\n",
    "1. Create a new list that contains only the names of the locations.\n",
    "2. Create a dictionary where the keys are location names and the values are tuples of their coordinates.\n",
    "3. Print the latitude of \"K2\" using the dictionary."
   ]
  },
  {
   "cell_type": "code",
   "execution_count": 341,
   "metadata": {},
   "outputs": [
    {
     "name": "stdout",
     "output_type": "stream",
     "text": [
      "['Mount Everest', 'K2', 'Kangchenjunga']\n"
     ]
    }
   ],
   "source": [
    "cits = [item[0] for item in locations]\n",
    "print(cits)"
   ]
  },
  {
   "cell_type": "code",
   "execution_count": 342,
   "metadata": {},
   "outputs": [],
   "source": [
    "ln_attributes = {\n",
    "    \"Mount Everest\": (27.9881, 86.9250),\n",
    "    \"K2\": (35.8808, 76.5155),\n",
    "    \"Kangchenjunga\": (27.7025, 88.1475),\n",
    "} \n"
   ]
  },
  {
   "cell_type": "code",
   "execution_count": 343,
   "metadata": {},
   "outputs": [],
   "source": [
    "MountEverest = ln_attributes[\"Mount Everest\"]\n",
    "K2= ln_attributes[\"K2\"]\n",
    "Kangchenjunga = ln_attributes[\"Kangchenjunga\"]"
   ]
  },
  {
   "cell_type": "code",
   "execution_count": 345,
   "metadata": {},
   "outputs": [
    {
     "name": "stdout",
     "output_type": "stream",
     "text": [
      "(35.8808, 76.5155)\n"
     ]
    }
   ],
   "source": [
    "print(K2)"
   ]
  },
  {
   "cell_type": "markdown",
   "metadata": {},
   "source": [
    "## Exercise 11: Manipulating Geographic Location Strings\n",
    "\n",
    "- Create a string that represents the name of a geographic feature (e.g., `\"Amazon River\"`).\n",
    "- Convert the string to lowercase and then to uppercase.\n",
    "- Concatenate the string with the name of the country (e.g., `\"Brazil\"`) to create a full location name.\n",
    "- Repeat the string three times, separating each repetition with a dash (`-`)."
   ]
  },
  {
   "cell_type": "code",
   "execution_count": 346,
   "metadata": {},
   "outputs": [],
   "source": [
    "geo_name = \"Smokey Mountains\" "
   ]
  },
  {
   "cell_type": "code",
   "execution_count": 347,
   "metadata": {},
   "outputs": [
    {
     "name": "stdout",
     "output_type": "stream",
     "text": [
      "smokey mountains\n"
     ]
    }
   ],
   "source": [
    "geo_name_lower = geo_name.lower()\n",
    "print(geo_name_lower)"
   ]
  },
  {
   "cell_type": "code",
   "execution_count": 348,
   "metadata": {},
   "outputs": [
    {
     "name": "stdout",
     "output_type": "stream",
     "text": [
      "SMOKEY MOUNTAINS\n"
     ]
    }
   ],
   "source": [
    "geo_name_upper = geo_name.upper()\n",
    "print(geo_name_upper)"
   ]
  },
  {
   "cell_type": "code",
   "execution_count": 349,
   "metadata": {},
   "outputs": [
    {
     "name": "stdout",
     "output_type": "stream",
     "text": [
      "Smokey Mountains, U.S.A.\n"
     ]
    }
   ],
   "source": [
    "geo_name_full = geo_name + \", U.S.A.\"\n",
    "print(geo_name_full)"
   ]
  },
  {
   "cell_type": "code",
   "execution_count": 350,
   "metadata": {},
   "outputs": [
    {
     "data": {
      "text/plain": [
       "'Smokey Mountains, U.S.A.-Smokey Mountains, U.S.A.-Smokey Mountains, U.S.A.'"
      ]
     },
     "execution_count": 350,
     "metadata": {},
     "output_type": "execute_result"
    }
   ],
   "source": [
    "str(f\"{geo_name_full}-\" * 3)[:-1]"
   ]
  },
  {
   "cell_type": "markdown",
   "metadata": {},
   "source": [
    "## Exercise 12: Extracting and Formatting Coordinates\n",
    "\n",
    "- Given a string with the format `\"latitude, longitude\"` (e.g., `\"40.7128N, 74.0060W\"`), extract the numeric values of latitude and longitude.\n",
    "- Convert these values to floats and remove the directional indicators (`N`, `S`, `E`, `W`).\n",
    "- Format the coordinates into a `POINT` WKT string (e.g., `\"POINT(-74.0060 40.7128)\"`)."
   ]
  },
  {
   "cell_type": "code",
   "execution_count": 351,
   "metadata": {},
   "outputs": [
    {
     "name": "stdout",
     "output_type": "stream",
     "text": [
      "Point: (40.7128, 74.006)\n"
     ]
    }
   ],
   "source": [
    "coord_string = \"40.7128N, 74.0060E\"\n",
    "lat_str, lon_str = coord_string.split(\", \")\n",
    "latitude = float(lat_str[:-1])  \n",
    "longitude = float(lon_str[:-1]) \n",
    "print(f\"Point: ({latitude}, {longitude})\")"
   ]
  },
  {
   "cell_type": "markdown",
   "metadata": {},
   "source": [
    "## Exercise 13: Building Dynamic SQL Queries\n",
    "\n",
    "- Given a table name and a condition, dynamically build an SQL query string.\n",
    "- Example: If `table_name = \"cities\"` and `condition = \"population > 1000000\"`, the query should be `\"SELECT * FROM cities WHERE population > 1000000;\"`.\n",
    "- Add additional conditions dynamically, like `AND` clauses."
   ]
  },
  {
   "cell_type": "code",
   "execution_count": 352,
   "metadata": {},
   "outputs": [
    {
     "name": "stdout",
     "output_type": "stream",
     "text": [
      "SELECT * FROM food WHERE genre = Mexican AND spicy;\n"
     ]
    }
   ],
   "source": [
    "table_name = \"food\"\n",
    "condition = \"genre = Mexican\" \n",
    "condition2 = \"spicy\"\n",
    "sql_query = f\"SELECT * FROM {table_name} WHERE {condition} AND {condition2};\"\n",
    "print(sql_query)"
   ]
  },
  {
   "cell_type": "markdown",
   "metadata": {},
   "source": [
    "## Exercise 14: String Normalization and Cleaning\n",
    "\n",
    "- Given a list of city names with inconsistent formatting (e.g., `[\" new york \", \"Los ANGELES\", \"   CHICAGO\"]`), normalize the names by:\n",
    "  - Stripping any leading or trailing whitespace.\n",
    "  - Converting them to title case (e.g., `\"New York\"`, `\"Los Angeles\"`, `\"Chicago\"`).\n",
    "- Ensure that the output is a clean list of city names."
   ]
  },
  {
   "cell_type": "code",
   "execution_count": 353,
   "metadata": {},
   "outputs": [
    {
     "name": "stdout",
     "output_type": "stream",
     "text": [
      "[' new york', 'Los ANGELES ', ' CHICAGO']\n"
     ]
    }
   ],
   "source": [
    "citn = [\" new york\", \"Los ANGELES \", \" CHICAGO\"]\n",
    "print(citn)"
   ]
  },
  {
   "cell_type": "code",
   "execution_count": 354,
   "metadata": {},
   "outputs": [
    {
     "name": "stdout",
     "output_type": "stream",
     "text": [
      "new york\n",
      "Los ANGELES\n",
      "CHICAGO\n"
     ]
    }
   ],
   "source": [
    "for item in citn:\n",
    "    itemstri = item.strip() \n",
    "    print(itemstri)"
   ]
  },
  {
   "cell_type": "code",
   "execution_count": 355,
   "metadata": {},
   "outputs": [
    {
     "name": "stdout",
     "output_type": "stream",
     "text": [
      "['New York', 'Los Angeles', 'Chicago']\n"
     ]
    }
   ],
   "source": [
    "citnorm = [country.strip().title() for country in citn]\n",
    "print(citnorm)"
   ]
  },
  {
   "cell_type": "markdown",
   "metadata": {},
   "source": [
    "## Exercise 15: Parsing and Extracting Address Information\n",
    "\n",
    "- Given a string in the format `\"Street, City, Country\"` (e.g., `\"123 Main St, Springfield, USA\"`), write a function that parses the string into a dictionary with keys `street`, `city`, and `country`.\n",
    "- The function should return a dictionary like `{\"street\": \"123 Main St\", \"city\": \"Springfield\", \"country\": \"USA\"}`."
   ]
  },
  {
   "cell_type": "code",
   "execution_count": 356,
   "metadata": {},
   "outputs": [
    {
     "name": "stdout",
     "output_type": "stream",
     "text": [
      "Street: 123 Main St, City: Springfield, Country: USA\n"
     ]
    }
   ],
   "source": [
    "address = \"123 Main St, Springfield, USA\"\n",
    "street, city, country = address.split(\", \")\n",
    "print(f\"Street: {street}, City: {city}, Country: {country}\")"
   ]
  },
  {
   "cell_type": "markdown",
   "metadata": {},
   "source": [
    "## Exercise 16: Using For Loops to Process Coordinate Lists\n",
    "\n",
    "- Create a list of tuples representing coordinates (latitude, longitude).\n",
    "- Write a `for` loop that prints each coordinate and indicates whether it is in the Northern or Southern Hemisphere based on the latitude."
   ]
  },
  {
   "cell_type": "code",
   "execution_count": 359,
   "metadata": {},
   "outputs": [],
   "source": [
    "coordinates = [\n",
    "    (65.4563, 90.6732),\n",
    "    (40.3498, -120.6893),\n",
    "    (11.5432, -5.3995),\n",
    "]  "
   ]
  },
  {
   "cell_type": "code",
   "execution_count": 360,
   "metadata": {},
   "outputs": [
    {
     "name": "stdout",
     "output_type": "stream",
     "text": [
      "The coordinate (65.4563, 90.6732) is in the Northern Hemisphere.\n",
      "The coordinate (40.3498, -120.6893) is in the Northern Hemisphere.\n",
      "The coordinate (11.5432, -5.3995) is in the Northern Hemisphere.\n"
     ]
    }
   ],
   "source": [
    "for lat, lon in coordinates:\n",
    "    if lat > 0:\n",
    "        hemisphere = \"Northern\"\n",
    "    else:\n",
    "        hemisphere = \"Southern\"\n",
    "\n",
    "    print(\n",
    "        f\"The coordinate ({lat}, {lon}) is in the {hemisphere} Hemisphere.\"\n",
    "    )"
   ]
  },
  {
   "cell_type": "markdown",
   "metadata": {},
   "source": [
    "## Exercise 17: While Loops for Iterative Processing\n",
    "\n",
    "- Create a list of coordinates (latitude, longitude).\n",
    "- Write a `while` loop that continues to print each coordinate until it encounters a coordinate with a negative latitude.\n",
    "- Stop the loop once this condition is met."
   ]
  },
  {
   "cell_type": "code",
   "execution_count": 361,
   "metadata": {},
   "outputs": [],
   "source": [
    "coord = [\n",
    "    (67.4563, 99.6732),\n",
    "    (-41.3498, -123.6893),\n",
    "    (12.5432, -9.3995),\n",
    "] "
   ]
  },
  {
   "cell_type": "code",
   "execution_count": 362,
   "metadata": {},
   "outputs": [
    {
     "name": "stdout",
     "output_type": "stream",
     "text": [
      "Processing coordinate: (67.4563, 99.6732)\n",
      "Processing coordinate: (-41.3498, -123.6893)\n"
     ]
    }
   ],
   "source": [
    "counter = 0\n",
    "while counter < len(coord):\n",
    "    lat, lon = coord[counter]\n",
    "    print(f\"Processing coordinate: ({lat}, {lon})\")\n",
    "    if lat <0 : \n",
    "        break\n",
    "    counter += 1"
   ]
  },
  {
   "cell_type": "markdown",
   "metadata": {},
   "source": [
    "## Exercise 18: Conditional Logic in Loops\n",
    "\n",
    "- Create a list of coordinates and use a `for` loop to iterate over them.\n",
    "- Use an `if-elif-else` statement inside the loop to classify each coordinate based on its longitude:\n",
    "  - Print `\"Eastern Hemisphere\"` if the longitude is greater than 0.\n",
    "  - Print `\"Western Hemisphere\"` if the longitude is less than 0."
   ]
  },
  {
   "cell_type": "code",
   "execution_count": 363,
   "metadata": {},
   "outputs": [],
   "source": [
    "coords = [\n",
    "    (63.4563, 93.6732),\n",
    "    (42.3498, -127.6893),\n",
    "    (17.5432, -4.3995),\n",
    "] "
   ]
  },
  {
   "cell_type": "code",
   "execution_count": 364,
   "metadata": {},
   "outputs": [
    {
     "name": "stdout",
     "output_type": "stream",
     "text": [
      "The coordinate (65.4563, 90.6732) is in Eastern Hemisphere.\n",
      "The coordinate (40.3498, -120.6893) is in Western Hemisphere.\n",
      "The coordinate (11.5432, -5.3995) is in Western Hemisphere.\n"
     ]
    }
   ],
   "source": [
    "for lat, lon in coordinates:\n",
    "   \n",
    "    if lon > 0:\n",
    "        direction = \"Eastern\"\n",
    "    else:\n",
    "        direction = \"Western\"\n",
    "\n",
    "    print(\n",
    "        f\"The coordinate ({lat}, {lon}) is in {direction} Hemisphere.\"\n",
    "    )"
   ]
  },
  {
   "cell_type": "markdown",
   "metadata": {},
   "source": [
    "## Exercise 19: Filtering Data with Combined Loops and Conditionals\n",
    "\n",
    "- Given a list of coordinates, filter out and store only those located in the Southern Hemisphere (latitude < 0).\n",
    "- Count the number of coordinates that meet this condition and print the result."
   ]
  },
  {
   "cell_type": "code",
   "execution_count": 365,
   "metadata": {},
   "outputs": [],
   "source": [
    "cds = [\n",
    "    (63.4563, 93.6732),\n",
    "    (-42.3498, -127.6893),\n",
    "    (17.5432, -4.3995),\n",
    "] "
   ]
  },
  {
   "cell_type": "code",
   "execution_count": 366,
   "metadata": {},
   "outputs": [
    {
     "name": "stdout",
     "output_type": "stream",
     "text": [
      "Filtered coordinates (in the southern hemisphere): [(-42.3498, -127.6893)]\n"
     ]
    }
   ],
   "source": [
    "filtered_cds = []\n",
    "for lat, lon in cds:\n",
    "    if lat < 0:\n",
    "        filtered_cds.append((lat, lon))\n",
    "print(f\"Filtered coordinates (in the southern hemisphere): {filtered_cds}\")"
   ]
  },
  {
   "cell_type": "markdown",
   "metadata": {},
   "source": [
    "## Exercise 20: Generating and Analyzing Random Coordinates\n",
    "\n",
    "- Write a program that generates random coordinates (latitude between [-90, 90] degrees and longitude between [-180, 180] degrees).\n",
    "- Use a `while` loop to keep generating coordinates until a pair with both latitude and longitude greater than 50 is generated.\n",
    "- Print each generated coordinate and the final coordinate that meets the condition."
   ]
  },
  {
   "cell_type": "code",
   "execution_count": 289,
   "metadata": {},
   "outputs": [
    {
     "name": "stdout",
     "output_type": "stream",
     "text": [
      "Latitude: 78.09110285647344, Longitude: 65.50881762117734\n"
     ]
    }
   ],
   "source": [
    "import random\n",
    "\n",
    "def generate_coordinates():\n",
    "    while True:\n",
    "        latitude = random.uniform(-90, 90)\n",
    "        longitude = random.uniform(-180, 180)\n",
    "        print(f\"Latitude: {latitude}, Longitude: {longitude}\")\n",
    "        if latitude > 50 or longitude > 50:\n",
    "            break\n",
    "\n",
    "generate_coordinates()"
   ]
  }
 ],
 "metadata": {
  "kernelspec": {
   "display_name": "geo",
   "language": "python",
   "name": "python3"
  },
  "language_info": {
   "codemirror_mode": {
    "name": "ipython",
    "version": 3
   },
   "file_extension": ".py",
   "mimetype": "text/x-python",
   "name": "python",
   "nbconvert_exporter": "python",
   "pygments_lexer": "ipython3",
   "version": "3.12.8"
  }
 },
 "nbformat": 4,
 "nbformat_minor": 4
}
